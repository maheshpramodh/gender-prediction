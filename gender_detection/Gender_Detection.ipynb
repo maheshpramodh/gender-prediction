{
 "cells": [
  {
   "cell_type": "code",
   "execution_count": 108,
   "id": "dbf5fbc2",
   "metadata": {},
   "outputs": [],
   "source": [
    "from imutils import paths\n",
    "import cv2"
   ]
  },
  {
   "cell_type": "code",
   "execution_count": 118,
   "id": "27f29c2a",
   "metadata": {},
   "outputs": [],
   "source": [
    "imgpaths = list(paths.list_images('C:\\\\Users\\\\Admin\\\\Desktop\\\\gender_detection\\\\myimages'))"
   ]
  },
  {
   "cell_type": "code",
   "execution_count": 120,
   "id": "390d1af3",
   "metadata": {},
   "outputs": [
    {
     "data": {
      "text/plain": [
       "['C:\\\\Users\\\\Admin\\\\Desktop\\\\gender_detection\\\\myimages\\\\close-up-bearded-tired-man.jpg',\n",
       " 'C:\\\\Users\\\\Admin\\\\Desktop\\\\gender_detection\\\\myimages\\\\hh.jpg',\n",
       " 'C:\\\\Users\\\\Admin\\\\Desktop\\\\gender_detection\\\\myimages\\\\images.jpg',\n",
       " 'C:\\\\Users\\\\Admin\\\\Desktop\\\\gender_detection\\\\myimages\\\\jj.jpg',\n",
       " 'C:\\\\Users\\\\Admin\\\\Desktop\\\\gender_detection\\\\myimages\\\\k1.jpg',\n",
       " 'C:\\\\Users\\\\Admin\\\\Desktop\\\\gender_detection\\\\myimages\\\\k2.jpg',\n",
       " 'C:\\\\Users\\\\Admin\\\\Desktop\\\\gender_detection\\\\myimages\\\\k3.jpg',\n",
       " 'C:\\\\Users\\\\Admin\\\\Desktop\\\\gender_detection\\\\myimages\\\\k4.jpg',\n",
       " 'C:\\\\Users\\\\Admin\\\\Desktop\\\\gender_detection\\\\myimages\\\\k5.jpg',\n",
       " 'C:\\\\Users\\\\Admin\\\\Desktop\\\\gender_detection\\\\myimages\\\\k6.jpg',\n",
       " 'C:\\\\Users\\\\Admin\\\\Desktop\\\\gender_detection\\\\myimages\\\\k7.jpg',\n",
       " 'C:\\\\Users\\\\Admin\\\\Desktop\\\\gender_detection\\\\myimages\\\\k8.jpg']"
      ]
     },
     "execution_count": 120,
     "metadata": {},
     "output_type": "execute_result"
    }
   ],
   "source": [
    "imgpaths"
   ]
  },
  {
   "cell_type": "code",
   "execution_count": null,
   "id": "21621561",
   "metadata": {},
   "outputs": [],
   "source": [
    "for img in imgpaths:\n",
    "    image = cv2.imread(img)\n",
    "    cv2.imshow(\"Frame\",image)\n",
    "    cv2.waitKey()\n",
    "cv2.destroyAllWindows()"
   ]
  },
  {
   "cell_type": "code",
   "execution_count": 117,
   "id": "02adc961",
   "metadata": {},
   "outputs": [
    {
     "name": "stderr",
     "output_type": "stream",
     "text": [
      "Action: gender: 100%|████████████████████████████████████████████████████████████████████| 2/2 [01:32<00:00, 46.20s/it]\n"
     ]
    },
    {
     "name": "stdout",
     "output_type": "stream",
     "text": [
      "Gender:  Man\n",
      "[{'age': 25, 'region': {'x': 354, 'y': 91, 'w': 315, 'h': 315}, 'gender': {'Woman': 0.000371594660464325, 'Man': 99.99963045120239}, 'dominant_gender': 'Man'}]\n"
     ]
    },
    {
     "name": "stderr",
     "output_type": "stream",
     "text": [
      "Action: gender: 100%|████████████████████████████████████████████████████████████████████| 2/2 [00:05<00:00,  2.58s/it]\n"
     ]
    },
    {
     "name": "stdout",
     "output_type": "stream",
     "text": [
      "Gender:  Woman\n",
      "[{'age': 36, 'region': {'x': 481, 'y': 20, 'w': 213, 'h': 213}, 'gender': {'Woman': 99.20769929885864, 'Man': 0.7922999560832977}, 'dominant_gender': 'Woman'}]\n"
     ]
    },
    {
     "name": "stderr",
     "output_type": "stream",
     "text": [
      "Action: gender: 100%|████████████████████████████████████████████████████████████████████| 2/2 [00:02<00:00,  1.48s/it]\n"
     ]
    },
    {
     "name": "stdout",
     "output_type": "stream",
     "text": [
      "Gender:  Man\n",
      "[{'age': 33, 'region': {'x': 6, 'y': 52, 'w': 170, 'h': 170}, 'gender': {'Woman': 0.00927872461033985, 'Man': 99.99072551727295}, 'dominant_gender': 'Man'}]\n"
     ]
    },
    {
     "name": "stderr",
     "output_type": "stream",
     "text": [
      "Action: gender: 100%|████████████████████████████████████████████████████████████████████| 2/2 [00:03<00:00,  2.00s/it]\n"
     ]
    },
    {
     "name": "stdout",
     "output_type": "stream",
     "text": [
      "Gender:  Man\n",
      "[{'age': 37, 'region': {'x': 565, 'y': 143, 'w': 370, 'h': 370}, 'gender': {'Woman': 0.0013642114026879426, 'Man': 99.99864101409912}, 'dominant_gender': 'Man'}]\n"
     ]
    },
    {
     "name": "stderr",
     "output_type": "stream",
     "text": [
      "Action: gender: 100%|████████████████████████████████████████████████████████████████████| 2/2 [00:05<00:00,  2.82s/it]\n"
     ]
    },
    {
     "name": "stdout",
     "output_type": "stream",
     "text": [
      "Gender:  Woman\n",
      "[{'age': 28, 'region': {'x': 103, 'y': 45, 'w': 74, 'h': 74}, 'gender': {'Woman': 99.45526719093323, 'Man': 0.5447334609925747}, 'dominant_gender': 'Woman'}]\n"
     ]
    },
    {
     "name": "stderr",
     "output_type": "stream",
     "text": [
      "Action: gender: 100%|████████████████████████████████████████████████████████████████████| 2/2 [00:04<00:00,  2.05s/it]\n"
     ]
    },
    {
     "name": "stdout",
     "output_type": "stream",
     "text": [
      "Gender:  Woman\n",
      "[{'age': 31, 'region': {'x': 104, 'y': 34, 'w': 67, 'h': 67}, 'gender': {'Woman': 99.98502731323242, 'Man': 0.01497495686635375}, 'dominant_gender': 'Woman'}]\n"
     ]
    },
    {
     "name": "stderr",
     "output_type": "stream",
     "text": [
      "Action: gender: 100%|████████████████████████████████████████████████████████████████████| 2/2 [00:03<00:00,  1.98s/it]\n"
     ]
    },
    {
     "name": "stdout",
     "output_type": "stream",
     "text": [
      "Gender:  Man\n",
      "[{'age': 33, 'region': {'x': 61, 'y': 245, 'w': 850, 'h': 850}, 'gender': {'Woman': 15.274330973625183, 'Man': 84.72566604614258}, 'dominant_gender': 'Man'}]\n"
     ]
    },
    {
     "name": "stderr",
     "output_type": "stream",
     "text": [
      "Action: gender: 100%|████████████████████████████████████████████████████████████████████| 2/2 [00:04<00:00,  2.13s/it]\n"
     ]
    },
    {
     "name": "stdout",
     "output_type": "stream",
     "text": [
      "Gender:  Woman\n",
      "[{'age': 31, 'region': {'x': 46, 'y': 56, 'w': 110, 'h': 110}, 'gender': {'Woman': 91.62662625312805, 'Man': 8.37337076663971}, 'dominant_gender': 'Woman'}]\n"
     ]
    },
    {
     "name": "stderr",
     "output_type": "stream",
     "text": [
      "Action: gender: 100%|████████████████████████████████████████████████████████████████████| 2/2 [00:04<00:00,  2.26s/it]\n"
     ]
    },
    {
     "name": "stdout",
     "output_type": "stream",
     "text": [
      "Gender:  Man\n",
      "[{'age': 22, 'region': {'x': 100, 'y': 25, 'w': 92, 'h': 92}, 'gender': {'Woman': 0.02171154774259776, 'Man': 99.97828602790833}, 'dominant_gender': 'Man'}]\n"
     ]
    },
    {
     "name": "stderr",
     "output_type": "stream",
     "text": [
      "Action: gender: 100%|████████████████████████████████████████████████████████████████████| 2/2 [00:02<00:00,  1.47s/it]\n"
     ]
    },
    {
     "name": "stdout",
     "output_type": "stream",
     "text": [
      "Gender:  Man\n",
      "[{'age': 52, 'region': {'x': 59, 'y': 19, 'w': 105, 'h': 105}, 'gender': {'Woman': 0.010266378376400098, 'Man': 99.98973608016968}, 'dominant_gender': 'Man'}]\n"
     ]
    },
    {
     "name": "stderr",
     "output_type": "stream",
     "text": [
      "Action: gender: 100%|████████████████████████████████████████████████████████████████████| 2/2 [00:02<00:00,  1.27s/it]\n"
     ]
    },
    {
     "name": "stdout",
     "output_type": "stream",
     "text": [
      "Gender:  Man\n",
      "[{'age': 40, 'region': {'x': 115, 'y': 40, 'w': 60, 'h': 60}, 'gender': {'Woman': 1.1732729151844978, 'Man': 98.82672429084778}, 'dominant_gender': 'Man'}]\n"
     ]
    },
    {
     "name": "stderr",
     "output_type": "stream",
     "text": [
      "Action: gender: 100%|████████████████████████████████████████████████████████████████████| 2/2 [00:02<00:00,  1.24s/it]\n"
     ]
    },
    {
     "name": "stdout",
     "output_type": "stream",
     "text": [
      "Gender:  Man\n",
      "[{'age': 47, 'region': {'x': 20, 'y': 59, 'w': 113, 'h': 113}, 'gender': {'Woman': 0.7399419322609901, 'Man': 99.26005005836487}, 'dominant_gender': 'Man'}]\n"
     ]
    }
   ],
   "source": [
    "from deepface import DeepFace\n",
    "\n",
    "data = {\n",
    "    \"image\": [],\n",
    "    \"gender\": [],\n",
    "    \"age\":[]\n",
    "    \n",
    "}\n",
    "for img in imgpaths:\n",
    "    image = cv2.imread(img)\n",
    "    result = DeepFace.analyze(image,actions = ['age','gender'])\n",
    "    data['image'].append(img)\n",
    "    data['gender'].append(result[0]['dominant_gender'])\n",
    "    data['age'].append(result[0]['age'])\n",
    "    print('Gender: ', result[0]['dominant_gender'])\n",
    "    print(result)"
   ]
  },
  {
   "cell_type": "code",
   "execution_count": 121,
   "id": "54d12e31",
   "metadata": {},
   "outputs": [
    {
     "data": {
      "text/html": [
       "<div>\n",
       "<style scoped>\n",
       "    .dataframe tbody tr th:only-of-type {\n",
       "        vertical-align: middle;\n",
       "    }\n",
       "\n",
       "    .dataframe tbody tr th {\n",
       "        vertical-align: top;\n",
       "    }\n",
       "\n",
       "    .dataframe thead th {\n",
       "        text-align: right;\n",
       "    }\n",
       "</style>\n",
       "<table border=\"1\" class=\"dataframe\">\n",
       "  <thead>\n",
       "    <tr style=\"text-align: right;\">\n",
       "      <th></th>\n",
       "      <th>image</th>\n",
       "      <th>gender</th>\n",
       "      <th>age</th>\n",
       "    </tr>\n",
       "  </thead>\n",
       "  <tbody>\n",
       "    <tr>\n",
       "      <th>0</th>\n",
       "      <td>C:\\Users\\Admin\\Desktop\\gender_detection\\myimag...</td>\n",
       "      <td>Man</td>\n",
       "      <td>25</td>\n",
       "    </tr>\n",
       "    <tr>\n",
       "      <th>1</th>\n",
       "      <td>C:\\Users\\Admin\\Desktop\\gender_detection\\myimag...</td>\n",
       "      <td>Woman</td>\n",
       "      <td>36</td>\n",
       "    </tr>\n",
       "    <tr>\n",
       "      <th>2</th>\n",
       "      <td>C:\\Users\\Admin\\Desktop\\gender_detection\\myimag...</td>\n",
       "      <td>Man</td>\n",
       "      <td>33</td>\n",
       "    </tr>\n",
       "    <tr>\n",
       "      <th>3</th>\n",
       "      <td>C:\\Users\\Admin\\Desktop\\gender_detection\\myimag...</td>\n",
       "      <td>Man</td>\n",
       "      <td>37</td>\n",
       "    </tr>\n",
       "    <tr>\n",
       "      <th>4</th>\n",
       "      <td>C:\\Users\\Admin\\Desktop\\gender_detection\\myimag...</td>\n",
       "      <td>Woman</td>\n",
       "      <td>28</td>\n",
       "    </tr>\n",
       "    <tr>\n",
       "      <th>5</th>\n",
       "      <td>C:\\Users\\Admin\\Desktop\\gender_detection\\myimag...</td>\n",
       "      <td>Woman</td>\n",
       "      <td>31</td>\n",
       "    </tr>\n",
       "    <tr>\n",
       "      <th>6</th>\n",
       "      <td>C:\\Users\\Admin\\Desktop\\gender_detection\\myimag...</td>\n",
       "      <td>Man</td>\n",
       "      <td>33</td>\n",
       "    </tr>\n",
       "    <tr>\n",
       "      <th>7</th>\n",
       "      <td>C:\\Users\\Admin\\Desktop\\gender_detection\\myimag...</td>\n",
       "      <td>Woman</td>\n",
       "      <td>31</td>\n",
       "    </tr>\n",
       "    <tr>\n",
       "      <th>8</th>\n",
       "      <td>C:\\Users\\Admin\\Desktop\\gender_detection\\myimag...</td>\n",
       "      <td>Man</td>\n",
       "      <td>22</td>\n",
       "    </tr>\n",
       "    <tr>\n",
       "      <th>9</th>\n",
       "      <td>C:\\Users\\Admin\\Desktop\\gender_detection\\myimag...</td>\n",
       "      <td>Man</td>\n",
       "      <td>52</td>\n",
       "    </tr>\n",
       "    <tr>\n",
       "      <th>10</th>\n",
       "      <td>C:\\Users\\Admin\\Desktop\\gender_detection\\myimag...</td>\n",
       "      <td>Man</td>\n",
       "      <td>40</td>\n",
       "    </tr>\n",
       "    <tr>\n",
       "      <th>11</th>\n",
       "      <td>C:\\Users\\Admin\\Desktop\\gender_detection\\myimag...</td>\n",
       "      <td>Man</td>\n",
       "      <td>47</td>\n",
       "    </tr>\n",
       "  </tbody>\n",
       "</table>\n",
       "</div>"
      ],
      "text/plain": [
       "                                                image gender  age\n",
       "0   C:\\Users\\Admin\\Desktop\\gender_detection\\myimag...    Man   25\n",
       "1   C:\\Users\\Admin\\Desktop\\gender_detection\\myimag...  Woman   36\n",
       "2   C:\\Users\\Admin\\Desktop\\gender_detection\\myimag...    Man   33\n",
       "3   C:\\Users\\Admin\\Desktop\\gender_detection\\myimag...    Man   37\n",
       "4   C:\\Users\\Admin\\Desktop\\gender_detection\\myimag...  Woman   28\n",
       "5   C:\\Users\\Admin\\Desktop\\gender_detection\\myimag...  Woman   31\n",
       "6   C:\\Users\\Admin\\Desktop\\gender_detection\\myimag...    Man   33\n",
       "7   C:\\Users\\Admin\\Desktop\\gender_detection\\myimag...  Woman   31\n",
       "8   C:\\Users\\Admin\\Desktop\\gender_detection\\myimag...    Man   22\n",
       "9   C:\\Users\\Admin\\Desktop\\gender_detection\\myimag...    Man   52\n",
       "10  C:\\Users\\Admin\\Desktop\\gender_detection\\myimag...    Man   40\n",
       "11  C:\\Users\\Admin\\Desktop\\gender_detection\\myimag...    Man   47"
      ]
     },
     "execution_count": 121,
     "metadata": {},
     "output_type": "execute_result"
    }
   ],
   "source": [
    "import pandas as pd\n",
    "\n",
    "df = pd.DataFrame(data)\n",
    "df"
   ]
  }
 ],
 "metadata": {
  "kernelspec": {
   "display_name": "Python 3 (ipykernel)",
   "language": "python",
   "name": "python3"
  },
  "language_info": {
   "codemirror_mode": {
    "name": "ipython",
    "version": 3
   },
   "file_extension": ".py",
   "mimetype": "text/x-python",
   "name": "python",
   "nbconvert_exporter": "python",
   "pygments_lexer": "ipython3",
   "version": "3.9.7"
  }
 },
 "nbformat": 4,
 "nbformat_minor": 5
}
